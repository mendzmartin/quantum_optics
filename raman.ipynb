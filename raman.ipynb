{
 "cells": [
  {
   "cell_type": "markdown",
   "metadata": {},
   "source": [
    "*This notebook can be found on* [github](https://github.com/qojulia/QuantumOptics.jl-examples/tree/master/notebooks/raman.ipynb)\n",
    "\n",
    "\n",
    "# Raman Transition of a $\\Lambda$-scheme Atom"
   ]
  },
  {
   "cell_type": "markdown",
   "metadata": {},
   "source": [
    "Consider a three-level atom with two ground states and one excited state ($\\Lambda$-scheme), which decays only to one of the ground states. The atom is initially prepared in one of its ground states (the one it does not decay into). A Raman transition occurs when the transition from the initial ground state to the excited state is driven by a laser that is far detuned from the transition, but matches the energy difference between the two ground states. In this case, the atom is driven from the initial ground state to its other ground state without ever populating the excited state (even though no direct transition between the two ground states is possible).\n",
    "\n",
    "This system is described by the Hamiltonian\n",
    "\n",
    "$H = \\Delta_2|2\\rangle\\langle2| + \\Delta_3|3\\rangle\\langle3| + \\Omega\\left(\\sigma_1 + \\sigma_1^\\dagger\\right),$\n",
    "\n",
    "where $|1\\rangle$ is the initial ground state with energy 0, $|2\\rangle$ is the excited state and $|3\\rangle$ is the final ground state. The detunings $\\Delta_{2,3}$ are with respect to the laser driving the transition $|1\\rangle\\to|2\\rangle$. Matching the laser frequency to the energy difference between $|1\\rangle$ and $|3\\rangle$ means $\\Delta_3=0$. The laser has the amplitude $\\Omega$ and drives the transition with the operators $\\sigma_1=|1\\rangle\\langle2|$.\n",
    "\n",
    "The decay is given by the Lindblad super-operator\n",
    "\n",
    "$\\mathcal{L}[\\rho] = \\frac{\\gamma_3}{2}\\left(2\\sigma_3\\rho\\sigma_3^\\dagger - \\sigma_3^\\dagger\\sigma_3\\rho - \\rho\\sigma_3^\\dagger\\sigma_3\\right),$\n",
    "\n",
    "where $\\gamma_3$ is the rate of decay and $\\sigma_3=|3\\rangle\\langle2|$."
   ]
  },
  {
   "cell_type": "markdown",
   "metadata": {},
   "source": [
    "As always, the first step is to import the libraries we will use."
   ]
  },
  {
   "cell_type": "code",
   "execution_count": 2,
   "metadata": {},
   "outputs": [
    {
     "name": "stderr",
     "output_type": "stream",
     "text": [
      "\u001b[32m\u001b[1m    Updating\u001b[22m\u001b[39m registry at `~/.julia/registries/General.toml`\n"
     ]
    },
    {
     "name": "stderr",
     "output_type": "stream",
     "text": [
      "\u001b[32m\u001b[1m   Resolving\u001b[22m\u001b[39m package versions...\n"
     ]
    },
    {
     "name": "stderr",
     "output_type": "stream",
     "text": [
      "\u001b[32m\u001b[1m   Installed\u001b[22m\u001b[39m PyPlot ─ v2.11.0\n",
      "\u001b[32m\u001b[1m   Installed\u001b[22m\u001b[39m PyCall ─ v1.94.1\n"
     ]
    },
    {
     "name": "stderr",
     "output_type": "stream",
     "text": [
      "\u001b[32m\u001b[1m    Updating\u001b[22m\u001b[39m `~/.julia/environments/v1.8/Project.toml`\n",
      " \u001b[90m [d330b81b] \u001b[39m\u001b[92m+ PyPlot v2.11.0\u001b[39m\n",
      "\u001b[32m\u001b[1m    Updating\u001b[22m\u001b[39m `~/.julia/environments/v1.8/Manifest.toml`\n"
     ]
    },
    {
     "name": "stderr",
     "output_type": "stream",
     "text": [
      " \u001b[90m [438e738f] \u001b[39m\u001b[92m+ PyCall v1.94.1\u001b[39m\n",
      " \u001b[90m [d330b81b] \u001b[39m\u001b[92m+ PyPlot v2.11.0\u001b[39m\n",
      "\u001b[32m\u001b[1m    Building\u001b[22m\u001b[39m PyCall → `~/.julia/scratchspaces/44cfe95a-1eb2-52ea-b672-e2afdf69b78f/53b8b07b721b77144a0fbbbc2675222ebf40a02d/build.log`\n"
     ]
    },
    {
     "name": "stderr",
     "output_type": "stream",
     "text": [
      "\u001b[32m\u001b[1mPrecompiling\u001b[22m\u001b[39m "
     ]
    },
    {
     "name": "stderr",
     "output_type": "stream",
     "text": [
      "project...\n"
     ]
    },
    {
     "name": "stderr",
     "output_type": "stream",
     "text": [
      "\u001b[32m  ✓ \u001b[39m\u001b[90mPyCall\u001b[39m\n"
     ]
    },
    {
     "name": "stderr",
     "output_type": "stream",
     "text": [
      "\u001b[32m  ✓ \u001b[39mPyPlot\n"
     ]
    },
    {
     "name": "stderr",
     "output_type": "stream",
     "text": [
      "  2 dependencies successfully precompiled in 12 seconds. 268 already precompiled. 1 skipped during auto due to previous errors.\n"
     ]
    }
   ],
   "source": [
    "import Pkg\n",
    "#Pkg.add(\"QuantumOptics\")\n",
    "Pkg.add(\"PyPlot\")"
   ]
  },
  {
   "cell_type": "code",
   "execution_count": 4,
   "metadata": {},
   "outputs": [],
   "source": [
    "using QuantumOptics\n",
    "using PyPlot"
   ]
  },
  {
   "cell_type": "markdown",
   "metadata": {},
   "source": [
    "Next, we define the parameters we need."
   ]
  },
  {
   "cell_type": "code",
   "execution_count": 5,
   "metadata": {},
   "outputs": [],
   "source": [
    "# Parameters\n",
    "γ₃ = 1.\n",
    "Ω = .5γ₃\n",
    "Δ₂ = 5γ₃\n",
    "Δ₃ = 0.0\n",
    "tmax = 800/γ₃\n",
    "dt = 0.1\n",
    "tlist = [0:dt:tmax;];"
   ]
  },
  {
   "cell_type": "markdown",
   "metadata": {},
   "source": [
    "In this example, we make use of the N-level basis, which we initialize by passing the number of levels of our atom. We then define the respective transition operators."
   ]
  },
  {
   "cell_type": "code",
   "execution_count": 6,
   "metadata": {},
   "outputs": [],
   "source": [
    "# Basis and operators\n",
    "b = NLevelBasis(3)\n",
    "σ₁ = transition(b, 1, 2)\n",
    "σ₃ = transition(b, 3, 2)\n",
    "proj₂ = transition(b, 2, 2)\n",
    "proj₃ = σ₃*dagger(σ₃);"
   ]
  },
  {
   "cell_type": "markdown",
   "metadata": {},
   "source": [
    "This makes it easy to write down the Hamiltonian and the Jump operators. We also initialize the atom in state $|1\\rangle$."
   ]
  },
  {
   "cell_type": "code",
   "execution_count": 7,
   "metadata": {},
   "outputs": [],
   "source": [
    "# Hamiltonian and jump operators\n",
    "H = Δ₂*proj₂ + Δ₃*proj₃ + Ω*(σ₁ + dagger(σ₁))\n",
    "J = [sqrt(γ₃)*σ₃];\n",
    "\n",
    "# Initial state\n",
    "ψ₀ = nlevelstate(b, 1);"
   ]
  },
  {
   "cell_type": "markdown",
   "metadata": {},
   "source": [
    "Since we are only interested in the state populations, i.e. three different expectation values, we can save memory by passing an output function as additional argument to the master equation solver. This will evaluate the function rather than returning a density matrix for each time-step, and so we simply write a function that calculates the expectation values of interest and returns them with the corresponding list of times."
   ]
  },
  {
   "cell_type": "code",
   "execution_count": 8,
   "metadata": {},
   "outputs": [],
   "source": [
    "# Expectation values\n",
    "function calc_pops(t, ρ)\n",
    "    p1 = real(expect(σ₁*dagger(σ₁), ρ))\n",
    "    p2 = real(expect(proj₂, ρ))\n",
    "    p3 = real(expect(proj₃, ρ))\n",
    "    return p1, p2, p3\n",
    "end;"
   ]
  },
  {
   "cell_type": "markdown",
   "metadata": {},
   "source": [
    "Now, we pass everything to the master equation solver."
   ]
  },
  {
   "cell_type": "code",
   "execution_count": 9,
   "metadata": {},
   "outputs": [],
   "source": [
    "# Time evolution\n",
    "tout, pops = timeevolution.master(tlist, ψ₀, H, J; fout=calc_pops);"
   ]
  },
  {
   "cell_type": "markdown",
   "metadata": {},
   "source": [
    "Finally, all that is left to do is to plot the result."
   ]
  },
  {
   "cell_type": "code",
   "execution_count": 10,
   "metadata": {},
   "outputs": [],
   "source": [
    "# Reshape pops\n",
    "p1 = [p[1] for p=pops]\n",
    "p2 = [p[2] for p=pops]\n",
    "p3 = [p[3] for p=pops]\n",
    "\n",
    "# Plots\n",
    "figure(figsize=(6, 3))\n",
    "plot(tout, p1, label=\"Initial ground state\")\n",
    "plot(tout, p2, \"--\", label=\"Excited state\")\n",
    "plot(tout, p3, label=\"Other ground state\")\n",
    "axis([0, tmax, 0, 1])\n",
    "legend();\n",
    "show()"
   ]
  },
  {
   "cell_type": "code",
   "execution_count": null,
   "metadata": {},
   "outputs": [],
   "source": []
  }
 ],
 "metadata": {
  "anaconda-cloud": {},
  "kernelspec": {
   "display_name": "Julia 1.8.0",
   "language": "julia",
   "name": "julia-1.8"
  },
  "language_info": {
   "file_extension": ".jl",
   "mimetype": "application/julia",
   "name": "julia",
   "version": "1.8.0"
  }
 },
 "nbformat": 4,
 "nbformat_minor": 1
}
