{
 "cells": [
  {
   "cell_type": "markdown",
   "metadata": {},
   "source": [
    "### Configuración $\\Lambda$ (simulación numérica)"
   ]
  },
  {
   "cell_type": "markdown",
   "metadata": {},
   "source": [
    "Se realizaron dos simulaciones, una en lenguaje JULIA y otra usando el paquete MCTDH (versión 85.14), en esta segunda fundación los comandos para mostrar los resutlados fueron\n",
    "\n",
    "Para ejectuar el programa corremos el siguiente comando específico del paquete MCTDH\n",
    "\n",
    "```bash\n",
    "    @prompt$ mctdh85 -mnd -w -p Delta -100.0 -p omega 1.0 input_file.inp\n",
    "```\n",
    "\n",
    "donde decimmos que los parámetros de simulación serán $\\Delta=-100$ y $\\Omega=1$.   \n",
    "\n",
    "Dentro del directorio de resultados, corremos el siguiente comando para verificar que la norma de la función de onda dé siempre menora uno:\n",
    "\n",
    "```bash\n",
    "    @prompt$ norm85\n",
    "```\n",
    "\n",
    "Dentro del directorio de resultados, corremos el siguiente comando para visualizar la población de los estados electrónicos (que en nuestro sistema equivalente serían las poblaciones de los estado fundamental, excitado y auxiliar):\n",
    "\n",
    "```bash\n",
    "    @prompt$ showd1d85 -a -E f2\n",
    "```"
   ]
  },
  {
   "cell_type": "markdown",
   "metadata": {},
   "source": []
  }
 ],
 "metadata": {
  "kernelspec": {
   "display_name": "Julia 1.8.0",
   "language": "julia",
   "name": "julia-1.8"
  },
  "language_info": {
   "file_extension": ".jl",
   "mimetype": "application/julia",
   "name": "julia",
   "version": "1.8.0"
  },
  "orig_nbformat": 4
 },
 "nbformat": 4,
 "nbformat_minor": 2
}
