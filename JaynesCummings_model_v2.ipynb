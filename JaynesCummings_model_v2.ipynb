{
 "cells": [
  {
   "cell_type": "code",
   "execution_count": null,
   "metadata": {},
   "outputs": [],
   "source": [
    "# usamos libreria de Algebra Linear\n",
    "using LinearAlgebra\n",
    "using Logging\n",
    "using Plots\n",
    "\n",
    "# modulos incluidos\n",
    "include(\"module_JaynesCummings.jl\")"
   ]
  },
  {
   "cell_type": "code",
   "execution_count": null,
   "metadata": {},
   "outputs": [],
   "source": [
    "@debug \"Verbose debugging information.  Invisible by default\"\n",
    "@info  \"An informational message\"\n",
    "@warn  \"Something was odd.  You should pay attention\"\n",
    "@error \"A non fatal error occurred\""
   ]
  },
  {
   "cell_type": "code",
   "execution_count": null,
   "metadata": {},
   "outputs": [],
   "source": [
    "# Definimos frecuencias caracteristicas \n",
    "ω0 = Float64(100.0); println(\"ω0 = \",ω0);\n",
    "g = Float64(abs(ω0/100.0)); println(\"g = ω0/100 = \",g);\n",
    "m = 10; println(\"n = \",m);\n",
    "println(\"ħ=1\")"
   ]
  },
  {
   "cell_type": "markdown",
   "metadata": {},
   "source": [
    "Expresamos $\\hat{H}$ en la base $\\mathcal{B}=\\left\\{ \\ket{g,(n+1)},\\ket{e,n} \\right\\}$ y mostramos su representación matricial en pantalla"
   ]
  },
  {
   "cell_type": "code",
   "execution_count": null,
   "metadata": {},
   "outputs": [],
   "source": [
    "H=create_2x2_hamiltonian(ω0*(m+1),g*sqrt(m+1));\n",
    "@show H\n",
    "\n",
    "# calculamos las autoenergías (autovalores) y autoestados (autovectores) del hamiltoniano\n",
    "H_eigenvals=eigenvalues_problem(H)[1];\n",
    "H_eigenvectors=eigenvalues_problem(H)[2];"
   ]
  },
  {
   "cell_type": "markdown",
   "metadata": {},
   "source": [
    "Hacemos el siguiente cambio de variable $\\ket{g,(n+1)}\\equiv\\ket{\\phi_0};\\ket{e,n}\\equiv\\ket{\\phi_1}$"
   ]
  },
  {
   "cell_type": "code",
   "execution_count": null,
   "metadata": {},
   "outputs": [],
   "source": [
    "# definimos el estado inicial (fundamental), estado auxiliar y estado excitado\n",
    "ϕ0=[Float64(1),Float64(0)]; # vector columna (nivel fundamental del átomo y (n+1) fotones excitados)\n",
    "ϕ1=[Float64(0),Float64(1)]; # vector columna (nivel excitado del átomo y (n) fotones excitadoso)\n",
    "\n",
    "# creamos vector de tiempos\n",
    "# tiempo inicial, tiempo final y numero de pasos\n",
    "t_start=Float64(0);t_end=1.0;n=Int32(1000);\n",
    "# calculamos paso temporal\n",
    "Δt= abs(t_end-t_start)/Float64(n-1);\n",
    "# creamos vector de tiempos\n",
    "time_vector = [(t_start+Δt*Float64(i-1)) for i in 1:n];"
   ]
  },
  {
   "cell_type": "code",
   "execution_count": null,
   "metadata": {},
   "outputs": [],
   "source": [
    "ψ_t=evolution(ϕ0,H_eigenvals,H_eigenvectors,time_vector) # con estado inicial |ψ0⟩=|g⟩"
   ]
  },
  {
   "cell_type": "markdown",
   "metadata": {},
   "source": [
    "Calculamos probabilidades de población del estado excitado y fundamental, respectivamente"
   ]
  },
  {
   "cell_type": "code",
   "execution_count": null,
   "metadata": {},
   "outputs": [],
   "source": [
    "pϕ0=population_probability(time_vector,H_eigenvectors,ψ_t,ϕ0,1.0);\n",
    "pϕ1=population_probability(time_vector,H_eigenvectors,ψ_t,ϕ1,1.0);\n"
   ]
  },
  {
   "cell_type": "code",
   "execution_count": null,
   "metadata": {},
   "outputs": [],
   "source": [
    "plt = plot()\n",
    "plot!(plt, time_vector, pϕ1, color = :red, label = \"\\$|e,n⟩\\$\")\n",
    "plot!(plt, time_vector, pϕ0, color = :blue, label = \"\\$|g,(n+1)⟩\\$\")\n",
    "plot!(plt, time_vector, (pϕ1+pϕ0), color = :magenta, label = \"\\$sum\\$\")\n",
    "plot!(ylabel = \"\\$Population\\$ \\$(t)\\$\", xlabel = \"\\$adimensional\\$ \\$time\\$ \\$(t)\\$\")\n",
    "plot!(title = \"Jaynes-Cummings model whit g=|ω0/100|, n=$(m)\")\n",
    "plot!(plt, legend = :topright)"
   ]
  },
  {
   "cell_type": "code",
   "execution_count": null,
   "metadata": {},
   "outputs": [],
   "source": [
    "info_pϕ1=period_oscillator(time_vector,real(pϕ1),1e-6);\n",
    "println(\"Ω=\",info_pϕ1[1],\"\\nT=\",info_pϕ1[2]);"
   ]
  },
  {
   "cell_type": "markdown",
   "metadata": {},
   "source": [
    "### Resolvemos la evolución para un estado coherente\n",
    "\n",
    "Partimos de un estado coherente arbitrario dado por $\\ket{\\chi,\\alpha}$ y lo expresamos como combinación lineal de los autoestados del hamiltoniano $ \\left\\{ \\ket{\\phi_i} \\right\\}$ y los estados de Fock $\\left\\{\\ket{n}\\right\\}$\n",
    "\\begin{align}\n",
    "    \\ket{\\chi,\\alpha}\\equiv \\ket{\\chi} \\otimes \\ket{\\alpha}\n",
    "    \\Rightarrow \\ket{\\chi,\\alpha}=\\left( \\sum_{i=1}^{n_i}c_{i}^{\\chi}\\ket{\\phi_i} \\right) \\otimes\n",
    "        \\left( \\sum_{i=1}^{n_j}c_{j}^{\\alpha}\\ket{n_j}  \\right)\n",
    "\\end{align}\n",
    "\n",
    "Y ahora, recordando que los estados coherentes se descomonen en los estados de Fock de la siguiente manera\n",
    "\\begin{equation}\n",
    "    \\ket{\\alpha}=\\sum_{n=0}^{\\infty}\\frac{\\alpha^n}{\\sqrt{n!}}\\exp\\left( \\frac{-|\\alpha|^2}{2}\\right)\\ket{n}\n",
    "\\end{equation}\n",
    "\n",
    "Entonces, como los únicos estados de Fock acoplados por los subespacios invariantes son $\\left\\{\\ket{n};\\ket{n+1}\\right\\}$ tendremos que los estados $\\ket{\\alpha}$ se podrán escribir como\n",
    "\\begin{align}\n",
    "    \\ket{\\alpha_n}=\\frac{\\alpha^n}{\\sqrt{n!}}\\exp\\left( \\frac{-|\\alpha|^2}{2}\\right)\\ket{n}+\\frac{\\alpha^{(n+1)}}{\\sqrt{(n+1)!}}\\exp\\left( \\frac{-|\\alpha|^2}{2}\\right)\\ket{(n+1)}\\\\\n",
    "    \\Rightarrow \\ket{\\alpha_n}=\\frac{\\alpha^n}{\\sqrt{n!}}\\exp\\left( \\frac{-|\\alpha|^2}{2}\\right)\\left[ \\ket{n} + \\frac{\\alpha}{\\sqrt{(n+1)}}\\ket{(n+1)} \\right];\\ket{\\alpha}=\\sum_{n=0}^{\\infty}\\ket{\\alpha_n}\n",
    "\\end{align}\n",
    "\n",
    "Finalmente, particularizando al problema que estamos tratando cada subespacio (sub-bloque diagonal) es de dimensión 2 y dentro de cada uno tendremos las siguientes relaciones,\n",
    "\n",
    "\\begin{align}\n",
    "    \\ket{\\chi,\\alpha}_n=\\left( c_{1}^{\\chi}\\ket{\\phi_1}+c_{2}^{\\chi}\\ket{\\phi_2} \\right) \\otimes\n",
    "    \\left(  c_1^{\\alpha}\\ket{n} + c_2^{\\alpha}\\ket{(n+1)}  \\right) \\\\\n",
    "    \\Rightarrow \\ket{\\chi,\\alpha}_n=c_{1}^{\\chi}c_1^{\\alpha}\\ket{\\phi_1,n}+\n",
    "    c_{1}^{\\chi}c_2^{\\alpha}\\ket{\\phi_1,(n+1)}+\n",
    "    c_{2}^{\\chi}c_1^{\\alpha}\\ket{\\phi_2,n}+\n",
    "    c_{2}^{\\chi}c_2^{\\alpha}\\ket{\\phi_2,(n+1)}\n",
    "\\end{align}\n",
    "\n",
    "Y evolucionando los autoestados de los sub-hamiltonianos (sub-bloques diagonales) trivialmente según la ec. de Schrödinger tendremos\n",
    "\n",
    "\\begin{align}\n",
    "    \\Rightarrow \\ket{\\chi,\\alpha}_n(t)=\n",
    "    c_{1}^{\\chi}c_1^{\\alpha}\\ket{\\phi_1(t),n}+\n",
    "    c_{1}^{\\chi}c_2^{\\alpha}\\ket{\\phi_1(t),(n+1)}+\n",
    "    c_{2}^{\\chi}c_1^{\\alpha}\\ket{\\phi_2(t),n}+\n",
    "    c_{2}^{\\chi}c_2^{\\alpha}\\ket{\\phi_2(t),(n+1)}\\\\\n",
    "\n",
    "    \\Rightarrow \\ket{\\chi,\\alpha}_n(t)=\n",
    "    c_{1}^{\\chi}\\exp\\left(\\frac{-i\\epsilon_1t}{\\hbar}\\right)\n",
    "        \\left\\{\n",
    "            c_1^{\\alpha}\\ket{\\phi_1,n}+c_2^{\\alpha}\\ket{\\phi_1,(n+1)}\n",
    "        \\right\\}+\n",
    "    c_{2}^{\\chi}\\exp\\left(\\frac{-i\\epsilon_2t}{\\hbar}\\right)\n",
    "        \\left\\{\n",
    "            c_1^{\\alpha}\\ket{\\phi_2,n}+\n",
    "            c_2^{\\alpha}\\ket{\\phi_2,(n+1)}\n",
    "        \\right\\}\n",
    "\\end{align}\n"
   ]
  },
  {
   "cell_type": "code",
   "execution_count": null,
   "metadata": {},
   "outputs": [],
   "source": [
    "# Definimos frecuencias caracteristicas \n",
    "ω0 = Float64(100.0); println(\"ω0 = \",ω0);\n",
    "g = Float64(abs(ω0/100.0)); println(\"g = ω0/100 = \",g);\n",
    "m = 10; println(\"n = \",m);\n",
    "println(\"ħ = 1\")"
   ]
  },
  {
   "cell_type": "code",
   "execution_count": null,
   "metadata": {},
   "outputs": [],
   "source": [
    "# creamos vector de tiempos\n",
    "# tiempo inicial, tiempo final y numero de pasos\n",
    "t_start=Float64(0);t_end=50.0;n=Int32(1000);\n",
    "# calculamos paso temporal\n",
    "Δt= abs(t_end-t_start)/Float64(n-1);\n",
    "# creamos vector de tiempos\n",
    "time_vector = [(t_start+Δt*Float64(i-1)) for i in 1:n];"
   ]
  },
  {
   "cell_type": "code",
   "execution_count": null,
   "metadata": {},
   "outputs": [],
   "source": [
    "# Definimos primer y segundo sub-bloque a diagonalizar\n",
    "H1=create_2x2_hamiltonian(ω0*(m+1),g*sqrt(m+1));\n",
    "H2=create_2x2_hamiltonian(ω0*(m+2),g*sqrt(m+2));\n",
    "\n",
    "# calculamos las autoenergías (autovalores) y autoestados (autovectores) del hamiltoniano\n",
    "H1_eigenvals=eigenvalues_problem(H1)[1];H1_eigenvectors=eigenvalues_problem(H1)[2];\n",
    "H2_eigenvals=eigenvalues_problem(H2)[1];H2_eigenvectors=eigenvalues_problem(H2)[2];"
   ]
  },
  {
   "cell_type": "markdown",
   "metadata": {},
   "source": [
    "Definimos parámetros que caracterizan al estado coherente"
   ]
  },
  {
   "cell_type": "code",
   "execution_count": null,
   "metadata": {},
   "outputs": [],
   "source": [
    "α=sqrt(10);\n",
    "αcoeff1=((α^m)*exp(-0.5*(abs(α)^2)))/sqrt(factorial(m));αcoeff2=αcoeff1*(α/sqrt(m+1));\n",
    "α_params=(αcoeff1,αcoeff2); # Tupla de parámetros"
   ]
  },
  {
   "cell_type": "markdown",
   "metadata": {},
   "source": [
    "Realizamos evolución del los sub-bloques"
   ]
  },
  {
   "cell_type": "code",
   "execution_count": null,
   "metadata": {},
   "outputs": [],
   "source": [
    "ψ1_t=evolution_coherent_state(ϕ0,α_params[1],H1_eigenvals,H1_eigenvectors,time_vector) # con estado inicial |ϕ0⟩=|g⟩\n",
    "ψ2_t=evolution_coherent_state(ϕ0,α_params[2],H2_eigenvals,H2_eigenvectors,time_vector) # con estado inicial |ϕ0⟩=|g⟩"
   ]
  },
  {
   "cell_type": "markdown",
   "metadata": {},
   "source": [
    "Calculamos probabildiades de población"
   ]
  },
  {
   "cell_type": "code",
   "execution_count": null,
   "metadata": {},
   "outputs": [],
   "source": [
    "pϕ0_1=population_probability(time_vector,H1_eigenvectors,ψ1_t,ϕ0,α_params[1]);\n",
    "pϕ1_1=population_probability(time_vector,H1_eigenvectors,ψ1_t,ϕ1,α_params[1]);\n",
    "\n",
    "pϕ0_2=population_probability(time_vector,H2_eigenvectors,ψ2_t,ϕ0,α_params[2]);\n",
    "pϕ1_2=population_probability(time_vector,H2_eigenvectors,ψ2_t,ϕ1,α_params[2]);\n",
    "\n",
    "plt = plot()\n",
    "plot!(plt, time_vector, (pϕ1_1+pϕ1_2), color = :red, label = \"\\$|e,n⟩\\$\")\n",
    "plot!(plt, time_vector, (pϕ0_1+pϕ0_2), color = :blue, label = \"\\$|g,(n+1)⟩\\$\")\n",
    "plot!(plt, time_vector, (pϕ1_1+pϕ0_1+pϕ1_2+pϕ0_2), color = :magenta, label = \"\\$sum\\$\")\n",
    "plot!(ylabel = \"\\$Population\\$ \\$(t)\\$\", xlabel = \"\\$adimensional\\$ \\$time\\$ \\$(t)\\$\")\n",
    "plot!(title = \"Jaynes-Cummings model whit g=|ω0/100|, n=$(m+1);$(m)\")\n",
    "plot!(plt, legend = :topright)"
   ]
  },
  {
   "cell_type": "code",
   "execution_count": null,
   "metadata": {},
   "outputs": [],
   "source": [
    "α=sqrt(10);\n",
    "αcoeff1=((α^m)*exp(-0.5*(abs(α)^2)))/sqrt(factorial(m));αcoeff2=αcoeff1*(α/sqrt(m+1));\n",
    "α_params=(αcoeff1,αcoeff2); # Tupla de parámetros\n",
    "\n",
    "ψ1_t=evolution_coherent_state(ϕ0,α_params[1],H1_eigenvals,H1_eigenvectors,time_vector) # con estado inicial |ϕ0⟩=|g⟩\n",
    "ψ2_t=evolution_coherent_state(ϕ0,α_params[2],H2_eigenvals,H2_eigenvectors,time_vector) # con estado inicial |ϕ0⟩=|g⟩\n",
    "\n",
    "pϕ1_1_10=population_probability(time_vector,H1_eigenvectors,ψ1_t,ϕ1,α_params[1]);\n",
    "pϕ1_2_10=population_probability(time_vector,H2_eigenvectors,ψ2_t,ϕ1,α_params[2]);\n",
    "\n",
    "plt=plot()\n",
    "plot!(title = \"Jaynes-Cummings model whit g=|ω0/100|,n=$(m)\")\n",
    "plot!(ylabel = \"\\$Population\\$ \\$pe(t)\\$\", xlabel = \"\\$adimensional\\$ \\$time\\$ \\$(t)\\$\")\n",
    "plot!(plt, legend = :topright)\n",
    "plot!(plt,time_vector,(pϕ1_1_10+pϕ1_2_10),label=\"α=$(α)\")\n",
    "\n",
    "####################################################################################################################\n",
    "\n",
    "α=sqrt(20);\n",
    "αcoeff1=((α^m)*exp(-0.5*(abs(α)^2)))/sqrt(factorial(m));αcoeff2=αcoeff1*(α/sqrt(m+1));\n",
    "α_params=(αcoeff1,αcoeff2); # Tupla de parámetros\n",
    "\n",
    "ψ1_t=evolution_coherent_state(ϕ0,α_params[1],H1_eigenvals,H1_eigenvectors,time_vector) # con estado inicial |ϕ0⟩=|g⟩\n",
    "ψ2_t=evolution_coherent_state(ϕ0,α_params[2],H2_eigenvals,H2_eigenvectors,time_vector) # con estado inicial |ϕ0⟩=|g⟩\n",
    "\n",
    "pϕ1_1_20=population_probability(time_vector,H1_eigenvectors,ψ1_t,ϕ1,α_params[1]);\n",
    "pϕ1_2_20=population_probability(time_vector,H2_eigenvectors,ψ2_t,ϕ1,α_params[2]);\n",
    "\n",
    "plot!(plt,time_vector,(pϕ1_1_20+pϕ1_2_20),label=\"α=$(α)\")\n",
    "\n",
    "####################################################################################################################\n",
    "\n",
    "α=sqrt(30);\n",
    "αcoeff1=((α^m)*exp(-0.5*(abs(α)^2)))/sqrt(factorial(m));αcoeff2=αcoeff1*(α/sqrt(m+1));\n",
    "α_params=(αcoeff1,αcoeff2); # Tupla de parámetros\n",
    "\n",
    "ψ1_t=evolution_coherent_state(ϕ0,α_params[1],H1_eigenvals,H1_eigenvectors,time_vector) # con estado inicial |ϕ0⟩=|g⟩\n",
    "ψ2_t=evolution_coherent_state(ϕ0,α_params[2],H2_eigenvals,H2_eigenvectors,time_vector) # con estado inicial |ϕ0⟩=|g⟩\n",
    "\n",
    "pϕ1_1_30=population_probability(time_vector,H1_eigenvectors,ψ1_t,ϕ1,α_params[1]);\n",
    "pϕ1_2_30=population_probability(time_vector,H2_eigenvectors,ψ2_t,ϕ1,α_params[2]);\n",
    "\n",
    "plot!(plt,time_vector,(pϕ1_1_30+pϕ1_2_30),label=\"α=$(α)\")\n",
    "\n",
    "####################################################################################################################\n",
    "\n",
    "α=sqrt(40);\n",
    "αcoeff1=((α^m)*exp(-0.5*(abs(α)^2)))/sqrt(factorial(m));αcoeff2=αcoeff1*(α/sqrt(m+1));\n",
    "α_params=(αcoeff1,αcoeff2); # Tupla de parámetros\n",
    "\n",
    "ψ1_t=evolution_coherent_state(ϕ0,α_params[1],H1_eigenvals,H1_eigenvectors,time_vector) # con estado inicial |ϕ0⟩=|g⟩\n",
    "ψ2_t=evolution_coherent_state(ϕ0,α_params[2],H2_eigenvals,H2_eigenvectors,time_vector) # con estado inicial |ϕ0⟩=|g⟩\n",
    "\n",
    "pϕ1_1_40=population_probability(time_vector,H1_eigenvectors,ψ1_t,ϕ1,α_params[1]);\n",
    "pϕ1_2_40=population_probability(time_vector,H2_eigenvectors,ψ2_t,ϕ1,α_params[2]);\n",
    "\n",
    "plot!(plt,time_vector,(pϕ1_1_40+pϕ1_2_40),label=\"α=$(α)\")\n",
    "\n",
    "####################################################################################################################\n",
    "\n",
    "α=sqrt(50);\n",
    "αcoeff1=((α^m)*exp(-0.5*(abs(α)^2)))/sqrt(factorial(m));αcoeff2=αcoeff1*(α/sqrt(m+1));\n",
    "α_params=(αcoeff1,αcoeff2); # Tupla de parámetros\n",
    "\n",
    "ψ1_t=evolution_coherent_state(ϕ0,α_params[1],H1_eigenvals,H1_eigenvectors,time_vector) # con estado inicial |ϕ0⟩=|g⟩\n",
    "ψ2_t=evolution_coherent_state(ϕ0,α_params[2],H2_eigenvals,H2_eigenvectors,time_vector) # con estado inicial |ϕ0⟩=|g⟩\n",
    "\n",
    "pϕ1_1_50=population_probability(time_vector,H1_eigenvectors,ψ1_t,ϕ1,α_params[1]);\n",
    "pϕ1_2_50=population_probability(time_vector,H2_eigenvectors,ψ2_t,ϕ1,α_params[2]);\n",
    "\n",
    "plot!(plt,time_vector,(pϕ1_1_50+pϕ1_2_50),label=\"α=$(α)\")"
   ]
  }
 ],
 "metadata": {
  "kernelspec": {
   "display_name": "Julia 1.8.0",
   "language": "julia",
   "name": "julia-1.8"
  },
  "language_info": {
   "file_extension": ".jl",
   "mimetype": "application/julia",
   "name": "julia",
   "version": "1.8.0"
  },
  "orig_nbformat": 4
 },
 "nbformat": 4,
 "nbformat_minor": 2
}
