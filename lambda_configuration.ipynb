{
 "cells": [
  {
   "cell_type": "code",
   "execution_count": 1351,
   "metadata": {},
   "outputs": [],
   "source": [
    "# usamos libreria de Algebra Linear\n",
    "using LinearAlgebra"
   ]
  },
  {
   "cell_type": "markdown",
   "metadata": {},
   "source": [
    "## Seteo de frecuencias características (parámetros)"
   ]
  },
  {
   "cell_type": "code",
   "execution_count": 1352,
   "metadata": {},
   "outputs": [
    {
     "name": "stdout",
     "output_type": "stream",
     "text": [
      "Δ = -100.0\n",
      "Ω = Δ/5 = 20.0\n",
      "ħ=1\n"
     ]
    }
   ],
   "source": [
    "# Definimos frecuencias caracteristicas\n",
    "Δ = Float64(-100); println(\"Δ = \",Δ);\n",
    "Ω = abs(Float64(0.2)*Δ); println(\"Ω = Δ/5 = \",Ω);\n",
    "println(\"ħ=1\")"
   ]
  },
  {
   "cell_type": "code",
   "execution_count": 1353,
   "metadata": {},
   "outputs": [],
   "source": [
    "# Definimos el hamiltoniano a diagonalizar\n",
    "H = Matrix{Float64}(undef, 3, 3) # creamos matriz\n",
    "H[:,:] = zeros(3,3)              # inicializamos matriz\n",
    "H[1,1] = -Δ; H[1,2] = Ω; H[1,3] = Ω;\n",
    "H[2,1] = H[1,2] ; H[3,1] = H[1,3];"
   ]
  },
  {
   "cell_type": "code",
   "execution_count": 1354,
   "metadata": {},
   "outputs": [
    {
     "name": "stdout",
     "output_type": "stream",
     "text": [
      "H=\n"
     ]
    },
    {
     "data": {
      "text/plain": [
       "3×3 Matrix{Float64}:\n",
       " 100.0  20.0  20.0\n",
       "  20.0   0.0   0.0\n",
       "  20.0   0.0   0.0"
      ]
     },
     "metadata": {},
     "output_type": "display_data"
    }
   ],
   "source": [
    "# Mostramos en pantalla el hamiltoniano\n",
    "println(\"H=\"); H"
   ]
  },
  {
   "cell_type": "code",
   "execution_count": 1355,
   "metadata": {},
   "outputs": [
    {
     "data": {
      "text/plain": [
       "3-element Vector{Float64}:\n",
       "  -7.445626465380287\n",
       "   2.55849186924138e-16\n",
       " 107.44562646538029"
      ]
     },
     "metadata": {},
     "output_type": "display_data"
    }
   ],
   "source": [
    "# calculamos las autoenergías del hamiltoniano (autovalores)\n",
    "H_eigenvals = copy(eigvals(H))"
   ]
  },
  {
   "cell_type": "code",
   "execution_count": 1356,
   "metadata": {},
   "outputs": [
    {
     "data": {
      "text/plain": [
       "3×3 Matrix{Float64}:\n",
       "  0.25457    2.22045e-16  -0.967054\n",
       " -0.683811  -0.707107     -0.180008\n",
       " -0.683811   0.707107     -0.180008"
      ]
     },
     "metadata": {},
     "output_type": "display_data"
    }
   ],
   "source": [
    "# calculamos los autoestados del hamiltonioano (autovectores)\n",
    "H_eigenvectors = copy(eigvecs(H))"
   ]
  },
  {
   "cell_type": "code",
   "execution_count": 1357,
   "metadata": {},
   "outputs": [],
   "source": [
    "# Almacenamos los autoestados y autoenergías en variables (en el caso de que sean útiles después)\n",
    "ϕ1 = copy(H_eigenvectors[:,1]); ϵ1= H_eigenvals[1]; # primer autoestado y autoenergía\n",
    "ϕ2 = copy(H_eigenvectors[:,2]); ϵ2= H_eigenvals[2]; # segundo autoestado y autoenergía\n",
    "ϕ3 = copy(H_eigenvectors[:,3]); ϵ3= H_eigenvals[3]; # tercer autoestado y autoenergía"
   ]
  },
  {
   "cell_type": "code",
   "execution_count": 1358,
   "metadata": {},
   "outputs": [],
   "source": [
    "# definimos el estado inicial (fundamental), estado auxiliar y estado excitado\n",
    "g=[Float64(0),Float64(1),Float64(0)]; # vector columna (estado inicial)\n",
    "a=[Float64(1),Float64(0),Float64(0)]; # vector columna (estado auxiliar)\n",
    "e=[Float64(0),Float64(0),Float64(1)]; # vector columna (estado excitado)\n",
    "\n",
    "# creamos vector de tiempos\n",
    "# tiempo inicial, tiempo final y numero de pasos\n",
    "t_start=Float64(0);t_end=1.0;n=Int32(1000);\n",
    "# calculamos paso temporal\n",
    "Δt= abs(t_end-t_start)/Float64(n-1);\n",
    "# creamos vector de tiempos\n",
    "time_vector = [(t_start+Δt*Float64(i-1)) for i in 1:n];"
   ]
  },
  {
   "cell_type": "markdown",
   "metadata": {},
   "source": [
    "## Creamos una función de evolución\n",
    "### Ecuación de schröedinger dependiente del tiempo"
   ]
  },
  {
   "cell_type": "code",
   "execution_count": 1359,
   "metadata": {},
   "outputs": [
    {
     "data": {
      "text/plain": [
       "lineal_superposition (generic function with 1 method)"
      ]
     },
     "metadata": {},
     "output_type": "display_data"
    }
   ],
   "source": [
    "# Calculamos cuál es la descomposición del estado inicial en la base de autoestados del hamiltoniano B:={|ϕj⟩}\n",
    "# |ψ0⟩=∑aj|ϕj⟩ := estado inicial (vector columna)\n",
    "\n",
    "function lineal_superposition(H_eigenvectors,ϕ)\n",
    "    # vector columna de coeficientes de descomposición coeff_vector := [a1,a2,a3]\n",
    "    coeff_vector = zero(Array{ComplexF64}(undef,length(H_eigenvectors[1,:])))\n",
    "    coeff_vector = inv(H_eigenvectors)*ϕ\n",
    "    return coeff_vector\n",
    "end"
   ]
  },
  {
   "cell_type": "code",
   "execution_count": 1360,
   "metadata": {},
   "outputs": [
    {
     "data": {
      "text/plain": [
       "evolution (generic function with 1 method)"
      ]
     },
     "metadata": {},
     "output_type": "display_data"
    }
   ],
   "source": [
    "# Realizamos la evolución temporal el hamiltoniano\n",
    "# |ψ(t)⟩=∑exp[-i⋅ϵj⋅(t-t0)]|ψ0⟩\n",
    "\n",
    "function evolution(ψ0::Array{Float64},H_eigenvals::Array{Float64},H_eigenvectors::Matrix{Float64},time_vector::Array{Float64})\n",
    "\n",
    "    # vector columna de coeficientes de descomposición coeff_vector := [a1,a2,a3]\n",
    "    coeff_vect = lineal_superposition(H_eigenvectors,ψ0)\n",
    "\n",
    "    dim_time = length(time_vector)\n",
    "    dim_eigvecs = length(H_eigenvectors[1,:])\n",
    "    dim_eigvals = length(H_eigenvals)\n",
    "\n",
    "    ψ_t = zero(Matrix{ComplexF64}(undef,dim_eigvecs,dim_time));\n",
    "\n",
    "    for i in 1:dim_time\n",
    "        for j in 1:dim_eigvecs\n",
    "            for k in 1:dim_eigvals\n",
    "                ψ_t[j,i]=ψ_t[j,i]+exp(-im*H_eigenvals[k]*(time_vector[i]-time_vector[1]))*coeff_vect[j]*H_eigenvectors[j,k]\n",
    "            end\n",
    "        end\n",
    "    end\n",
    "    return ψ_t\n",
    "end"
   ]
  },
  {
   "cell_type": "markdown",
   "metadata": {},
   "source": [
    "## Realizamos la evolución del sistema con los parámetros específicos"
   ]
  },
  {
   "cell_type": "code",
   "execution_count": 1361,
   "metadata": {},
   "outputs": [
    {
     "data": {
      "text/plain": [
       "3×1000 Matrix{ComplexF64}:\n",
       "  0.487204+0.0im   0.483388-0.0722834im   …    0.464632-0.550143im\n",
       "  -1.11081+0.0im   -1.11006+0.0100598im       -0.794748-0.368628im\n",
       " 0.0282094+0.0im  0.0280188-0.00256092im     -0.0522511+0.0938417im"
      ]
     },
     "metadata": {},
     "output_type": "display_data"
    }
   ],
   "source": [
    "#ψ_t=evolution(g,H_eigenvals,H_eigenvectors,time_vector) # con estado inicial |ψ0⟩=|g⟩\n",
    "ψ_t=evolution(e,H_eigenvals,H_eigenvectors,time_vector) # con estado inicial |ψ0⟩=|e⟩"
   ]
  },
  {
   "cell_type": "markdown",
   "metadata": {},
   "source": [
    "### Calculamos las poblaciones $p(t)$ de los estados $|e⟩$, $|g⟩$ y $|a⟩$;"
   ]
  },
  {
   "cell_type": "code",
   "execution_count": 1362,
   "metadata": {},
   "outputs": [],
   "source": [
    "# calculamos valores útiles\n",
    "dim_time = length(time_vector)\n",
    "dim_eigvecs = length(H_eigenvectors[1,:])\n",
    "\n",
    "# definimos vector de probabilidades (población del estado excitado)\n",
    "pe=Array{ComplexF64}(undef, dim_time); # vector complejo\n",
    "# vector de coeficientes aj tq |e⟩=∑aj|ϕj⟩, con |ϕj⟩ := base de autoestados de H\n",
    "coeff_vect_e = lineal_superposition(H_eigenvectors,e);\n",
    "\n",
    "# definimos vector de probabilidades (población del estado fundamental)\n",
    "pg=Array{ComplexF64}(undef, dim_time);\n",
    "# vector de coeficientes aj tq |g⟩=∑aj|ϕj⟩, con |ϕj⟩ := base de autoestados de H\n",
    "coeff_vect_g = lineal_superposition(H_eigenvectors,g);\n",
    "\n",
    "# definimos vector de probabilidades (población del estado auxiliar)\n",
    "pa=Array{ComplexF64}(undef, dim_time);\n",
    "# vector de coeficientes aj tq |a⟩=∑aj|ϕj⟩, con |ϕj⟩ := base de autoestados de H\n",
    "coeff_vect_a = lineal_superposition(H_eigenvectors,a);\n",
    "\n",
    "for i in 1:dim_time\n",
    "    ψ_t[:,i]=ψ_t[:,i]/norm(ψ_t[:,i]);             # normalizamos la vector de estado\n",
    "\n",
    "    pe[i]=conj(transpose(coeff_vect_e))*ψ_t[:,i]; # computamos ⟨e|ψt⟩=[∑(aj)*⟨ϕj|][∑bk|ϕk⟩]\n",
    "    pe[i]=abs(pe[i])*abs(pe[i])                   # computamos |⟨e|ψt⟩|²\n",
    "\n",
    "    pg[i]=conj(transpose(coeff_vect_g))*ψ_t[:,i]; # computamos ⟨g|ψt⟩=[∑(aj)*⟨ϕj|][∑bk|ϕk⟩]\n",
    "    pg[i]=abs(pg[i])*abs(pg[i])                   # computamos |⟨g|ψt⟩|²\n",
    "\n",
    "    pa[i]=conj(transpose(coeff_vect_a))*ψ_t[:,i]; # computamos ⟨a|ψt⟩=[∑(aj)*⟨ϕj|][∑bk|ϕk⟩]\n",
    "    pa[i]=abs(pa[i])*abs(pa[i])                   # computamos |⟨a|ψt⟩|²\n",
    "end"
   ]
  },
  {
   "cell_type": "markdown",
   "metadata": {},
   "source": [
    "### Ploteamos los resultados"
   ]
  },
  {
   "cell_type": "code",
   "execution_count": 1363,
   "metadata": {},
   "outputs": [],
   "source": [
    "using Plots\n",
    "plt = plot()\n",
    "plot!(plt, time_vector, real(pe), color = :red, label = \"\\$|e⟩\\$\")\n",
    "plot!(plt, time_vector, real(pg), color = :blue, label = \"\\$|g⟩\\$\")\n",
    "plot!(plt, time_vector, real(pa), color = :green, label = \"\\$|a⟩\\$\")\n",
    "plot!(plt, time_vector, real(pe)+real(pg)+real(pa), color = :magenta, label = \"\\$sum\\$\")\n",
    "plot!(ylabel = \"\\$Population\\$ \\$(t)\\$\", xlabel = \"\\$adimensional\\$ \\$time\\$ \\$(t)\\$\")\n",
    "plot!(title = \"Δ=-100;Ω=|Δ/5|;steps=1e5\")\n",
    "plot!(plt, legend = :topright)\n",
    "png(plot!(plt, legend = :topright), \"./plots/lambda_configuration_02.png\")"
   ]
  },
  {
   "cell_type": "markdown",
   "metadata": {},
   "source": [
    "# Referencias\n",
    "\n",
    "La implementación realizada es básica con lo visto en MCI pero podemos revisar un poco lo que ya está hecho en lenguaje Julia para cálculos relacionados a óptica cuántica en los siguientes enlaces (pero utiliza operadores tensoriales y espacios de Hilbert):\n",
    "\n",
    "+ [https://docs.qojulia.org/](https://docs.qojulia.org/)\n",
    "+ [https://docs.qojulia.org/examples/raman/](https://docs.qojulia.org/examples/raman/)\n",
    "\n",
    "Otra información útil puede ser\n",
    "\n",
    "+ [https://physics.stackexchange.com/questions/274770/holonomy-of-lambda-configuration-hamiltonian](https://physics.stackexchange.com/questions/274770/holonomy-of-lambda-configuration-hamiltonian)\n",
    "+ [https://journals.aps.org/pra/pdf/10.1103/PhysRevA.66.032309](https://journals.aps.org/pra/pdf/10.1103/PhysRevA.66.032309)\n",
    "+ [https://arxiv.org/ftp/arxiv/papers/0909/0909.3958.pdf](https://arxiv.org/ftp/arxiv/papers/0909/0909.3958.pdf)\n"
   ]
  },
  {
   "cell_type": "markdown",
   "metadata": {},
   "source": []
  }
 ],
 "metadata": {
  "kernelspec": {
   "display_name": "Julia 1.8.0",
   "language": "julia",
   "name": "julia-1.8"
  },
  "language_info": {
   "file_extension": ".jl",
   "mimetype": "application/julia",
   "name": "julia",
   "version": "1.8.0"
  },
  "orig_nbformat": 4
 },
 "nbformat": 4,
 "nbformat_minor": 2
}
